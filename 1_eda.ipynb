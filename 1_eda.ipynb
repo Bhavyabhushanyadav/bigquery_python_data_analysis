{
 "cells": [
  {
   "cell_type": "code",
   "execution_count": 1,
   "metadata": {
    "collapsed": false
   },
   "outputs": [
    {
     "data": {
      "text/html": [
       "\n",
       "          <script src=\"/static/components/requirejs/require.js\"></script>\n",
       "          <script>\n",
       "            requirejs.config({\n",
       "              paths: {\n",
       "                base: '/static/base',\n",
       "              },\n",
       "            });\n",
       "          </script>\n",
       "          "
      ],
      "text/plain": [
       "<IPython.core.display.HTML object>"
      ]
     },
     "metadata": {},
     "output_type": "display_data"
    }
   ],
   "source": [
    "#import google cloud related python libraries\n",
    "from google.datalab import Context\n",
    "import google.datalab.bigquery as bq\n",
    "import google.datalab.storage as storage\n",
    "try:\n",
    "  from StringIO import StringIO\n",
    "except ImportError:\n",
    "  from io import BytesIO as StringIO"
   ]
  },
  {
   "cell_type": "code",
   "execution_count": 17,
   "metadata": {
    "collapsed": false
   },
   "outputs": [
    {
     "data": {
      "text/html": [
       "\n",
       "          <script src=\"/static/components/requirejs/require.js\"></script>\n",
       "          <script>\n",
       "            requirejs.config({\n",
       "              paths: {\n",
       "                base: '/static/base',\n",
       "              },\n",
       "            });\n",
       "          </script>\n",
       "          "
      ],
      "text/plain": [
       "<IPython.core.display.HTML object>"
      ]
     },
     "metadata": {},
     "output_type": "display_data"
    }
   ],
   "source": [
    "#import data analysis related python libraries\n",
    "import numpy as np # linear algebra\n",
    "import pandas as pd # data processing, CSV file I/O (e.g. pd.read_csv)\n",
    "#plotting\n",
    "import matplotlib.pyplot as plt\n",
    "import seaborn as sns\n",
    "color = sns.color_palette()"
   ]
  },
  {
   "cell_type": "code",
   "execution_count": 4,
   "metadata": {
    "collapsed": false
   },
   "outputs": [
    {
     "data": {
      "text/html": [
       "\n",
       "          <script src=\"/static/components/requirejs/require.js\"></script>\n",
       "          <script>\n",
       "            requirejs.config({\n",
       "              paths: {\n",
       "                base: '/static/base',\n",
       "              },\n",
       "            });\n",
       "          </script>\n",
       "          "
      ],
      "text/plain": [
       "<IPython.core.display.HTML object>"
      ]
     },
     "metadata": {},
     "output_type": "display_data"
    },
    {
     "data": {
      "text/html": [
       "<table><tr><th>Name</th><th>Type</th><th>Size</th><th>Updated</th></tr><tr><td>instacart_data/aisles.csv</td><td>application/octet-stream</td><td>2603</td><td>2017-12-05 17:23:06.838000+00:00</td></tr><tr><td>instacart_data/departments.csv</td><td>application/octet-stream</td><td>270</td><td>2017-12-03 05:11:07.018000+00:00</td></tr><tr><td>instacart_data/order_products__prior.csv</td><td>application/octet-stream</td><td>577550706</td><td>2017-12-03 05:15:56.260000+00:00</td></tr><tr><td>instacart_data/order_products__train.csv</td><td>application/octet-stream</td><td>24680147</td><td>2017-12-03 05:11:20.296000+00:00</td></tr><tr><td>instacart_data/orders.csv</td><td>application/octet-stream</td><td>128380990</td><td>2017-12-05 19:00:53.295000+00:00</td></tr><tr><td>instacart_data/products.csv</td><td>application/octet-stream</td><td>2166953</td><td>2017-12-03 05:11:23.451000+00:00</td></tr><tr><td>instacart_data/sample_submission.csv</td><td>application/octet-stream</td><td>1475693</td><td>2017-12-03 05:11:26.512000+00:00</td></tr><tr><td>orders2.csv</td><td>text/plain</td><td>8026</td><td>2017-12-05 18:41:27.638000+00:00</td></tr><tr><td>results/</td><td>application/x-www-form-urlencoded;charset=utf-8</td><td>0</td><td>2017-12-06 11:26:17.630000+00:00</td></tr><tr><td>results/valu.csv</td><td>application/octet-stream</td><td>1756136</td><td>2017-12-06 11:26:38.894000+00:00</td></tr></table>"
      ],
      "text/plain": [
       "<IPython.core.display.HTML object>"
      ]
     },
     "execution_count": 4,
     "metadata": {},
     "output_type": "execute_result"
    }
   ],
   "source": [
    "#list all data files\n",
    "%gcs list --objects gs://buck1001012/"
   ]
  },
  {
   "cell_type": "code",
   "execution_count": 6,
   "metadata": {
    "collapsed": false
   },
   "outputs": [
    {
     "data": {
      "text/html": [
       "\n",
       "          <script src=\"/static/components/requirejs/require.js\"></script>\n",
       "          <script>\n",
       "            requirejs.config({\n",
       "              paths: {\n",
       "                base: '/static/base',\n",
       "              },\n",
       "            });\n",
       "          </script>\n",
       "          "
      ],
      "text/plain": [
       "<IPython.core.display.HTML object>"
      ]
     },
     "metadata": {},
     "output_type": "display_data"
    }
   ],
   "source": [
    "#we can directly create tables on bigquery using data in google cloud storage\n"
   ]
  },
  {
   "cell_type": "code",
   "execution_count": 7,
   "metadata": {
    "collapsed": false
   },
   "outputs": [
    {
     "data": {
      "text/html": [
       "\n",
       "          <script src=\"/static/components/requirejs/require.js\"></script>\n",
       "          <script>\n",
       "            requirejs.config({\n",
       "              paths: {\n",
       "                base: '/static/base',\n",
       "              },\n",
       "            });\n",
       "          </script>\n",
       "          "
      ],
      "text/plain": [
       "<IPython.core.display.HTML object>"
      ]
     },
     "metadata": {},
     "output_type": "display_data"
    }
   ],
   "source": [
    "#we can even load data into pandas dataframe from google cloud storage\n",
    "#run the following commands\n",
    "\n",
    "\n",
    "\n",
    "#read each file into a seperate variable from storage\n",
    "\n",
    "\n",
    "# %gcs read --object gs://buck1001012/instacart_data/aisles.csv --variable aisles\n",
    "# %gcs read --object gs://buck1001012/instacart_data/departments.csv --variable dept\n",
    "# %gcs read --object gs://buck1001012/instacart_data/order_products__prior.csv --variable ord_prd_prior\n",
    "# %gcs read --object gs://buck1001012/instacart_data/order_products__train.csv --variable ord_prd_train\n",
    "# %gcs read --object gs://buck1001012/instacart_data/orders.csv --variable orders\n",
    "# %gcs read --object gs://buck1001012/instacart_data/products.csv --variable products\n",
    "# %gcs read --object gs://buck1001012/instacart_data/sample_submission.csv --variable samples_submission\n",
    "\n",
    "\n",
    "\n",
    "#now load into pandas dataframe\n",
    "\n",
    "# ord_prd_train_df = pd.read_csv(StringIO(ord_prd_train))\n",
    "# ord_prd_prior_df = pd.read_csv(StringIO(ord_prd_prior))\n",
    "# ord_df = pd.read_csv(StringIO(orders))\n",
    "# prd_df = pd.read_csv(StringIO(products))\n",
    "# aisles_df = pd.read_csv(StringIO(aisles))\n",
    "# dept_df = pd.read_csv(StringIO(dept))"
   ]
  },
  {
   "cell_type": "code",
   "execution_count": 20,
   "metadata": {
    "collapsed": false
   },
   "outputs": [
    {
     "data": {
      "text/html": [
       "\n",
       "          <script src=\"/static/components/requirejs/require.js\"></script>\n",
       "          <script>\n",
       "            requirejs.config({\n",
       "              paths: {\n",
       "                base: '/static/base',\n",
       "              },\n",
       "            });\n",
       "          </script>\n",
       "          "
      ],
      "text/plain": [
       "<IPython.core.display.HTML object>"
      ]
     },
     "metadata": {},
     "output_type": "display_data"
    }
   ],
   "source": [
    "#now lets \n",
    "#   run a query\n",
    "#   load the results into a pandas dataframe and \n",
    "#   plot using seaborn"
   ]
  },
  {
   "cell_type": "markdown",
   "metadata": {},
   "source": [
    "#### now lets \n",
    "<p>   1. Run a query</p>\n",
    "<p>   2. Load the results into a pandas dataframe and</p>\n",
    "<p>   3. Plot using seaborn</p>"
   ]
  },
  {
   "cell_type": "code",
   "execution_count": 10,
   "metadata": {
    "collapsed": false
   },
   "outputs": [
    {
     "data": {
      "text/html": [
       "\n",
       "          <script src=\"/static/components/requirejs/require.js\"></script>\n",
       "          <script>\n",
       "            requirejs.config({\n",
       "              paths: {\n",
       "                base: '/static/base',\n",
       "              },\n",
       "            });\n",
       "          </script>\n",
       "          "
      ],
      "text/plain": [
       "<IPython.core.display.HTML object>"
      ]
     },
     "metadata": {},
     "output_type": "display_data"
    }
   ],
   "source": [
    "%%bq query -n query1\n",
    "SELECT\n",
    "  eval_set,\n",
    "  COUNT(*) AS `num`\n",
    "FROM\n",
    "  `newproject-186115.kaggle.ord`\n",
    "GROUP BY\n",
    "  eval_set\n",
    "ORDER BY `num` DESC"
   ]
  },
  {
   "cell_type": "code",
   "execution_count": 13,
   "metadata": {
    "collapsed": false
   },
   "outputs": [
    {
     "data": {
      "text/html": [
       "\n",
       "          <script src=\"/static/components/requirejs/require.js\"></script>\n",
       "          <script>\n",
       "            requirejs.config({\n",
       "              paths: {\n",
       "                base: '/static/base',\n",
       "              },\n",
       "            });\n",
       "          </script>\n",
       "          "
      ],
      "text/plain": [
       "<IPython.core.display.HTML object>"
      ]
     },
     "metadata": {},
     "output_type": "display_data"
    },
    {
     "data": {
      "text/html": [
       "\n",
       "    <div class=\"bqtv\" id=\"2_151301183208\"><table><tr><th>eval_set</th><th>num</th></tr><tr><td>prior</td><td>3214874</td></tr><tr><td>train</td><td>131209</td></tr><tr><td>test</td><td>75000</td></tr></table></div>\n",
       "    <br />(rows: 3, time: 1.7s,    23MB processed, job: job_xDVUCxaVyQyOiDKSrpdzLvZrfTQa)<br />\n",
       "    <script>\n",
       "\n",
       "      require.config({\n",
       "        paths: {\n",
       "          d3: '//cdnjs.cloudflare.com/ajax/libs/d3/3.4.13/d3',\n",
       "          plotly: 'https://cdn.plot.ly/plotly-1.5.1.min.js?noext',\n",
       "          jquery: '//ajax.googleapis.com/ajax/libs/jquery/2.0.0/jquery.min'\n",
       "        },\n",
       "        map: {\n",
       "          '*': {\n",
       "            datalab: 'nbextensions/gcpdatalab'\n",
       "          }\n",
       "        },\n",
       "        shim: {\n",
       "          plotly: {\n",
       "            deps: ['d3', 'jquery'],\n",
       "            exports: 'plotly'\n",
       "          }\n",
       "        }\n",
       "      });\n",
       "\n",
       "      require(['datalab/charting', 'datalab/element!2_151301183208', 'base/js/events',\n",
       "          'datalab/style!/nbextensions/gcpdatalab/charting.css'],\n",
       "        function(charts, dom, events) {\n",
       "          charts.render('gcharts', dom, events, 'table', [], {\"rows\": [{\"c\": [{\"v\": \"prior\"}, {\"v\": 3214874}]}, {\"c\": [{\"v\": \"train\"}, {\"v\": 131209}]}, {\"c\": [{\"v\": \"test\"}, {\"v\": 75000}]}], \"cols\": [{\"type\": \"string\", \"id\": \"eval_set\", \"label\": \"eval_set\"}, {\"type\": \"number\", \"id\": \"num\", \"label\": \"num\"}]},\n",
       "            {\n",
       "              pageSize: 25,\n",
       "              cssClassNames:  {\n",
       "                tableRow: 'gchart-table-row',\n",
       "                headerRow: 'gchart-table-headerrow',\n",
       "                oddTableRow: 'gchart-table-oddrow',\n",
       "                selectedTableRow: 'gchart-table-selectedrow',\n",
       "                hoverTableRow: 'gchart-table-hoverrow',\n",
       "                tableCell: 'gchart-table-cell',\n",
       "                headerCell: 'gchart-table-headercell',\n",
       "                rowNumberCell: 'gchart-table-rownumcell'\n",
       "              }\n",
       "            },\n",
       "            {source_index: 1, fields: 'eval_set,num'},\n",
       "            0,\n",
       "            3);\n",
       "        }\n",
       "      );\n",
       "    </script>\n",
       "  "
      ],
      "text/plain": [
       "QueryResultsTable job_xDVUCxaVyQyOiDKSrpdzLvZrfTQa"
      ]
     },
     "execution_count": 13,
     "metadata": {},
     "output_type": "execute_result"
    }
   ],
   "source": [
    "%%bq execute --query query1"
   ]
  },
  {
   "cell_type": "code",
   "execution_count": 14,
   "metadata": {
    "collapsed": false
   },
   "outputs": [
    {
     "data": {
      "text/html": [
       "\n",
       "          <script src=\"/static/components/requirejs/require.js\"></script>\n",
       "          <script>\n",
       "            requirejs.config({\n",
       "              paths: {\n",
       "                base: '/static/base',\n",
       "              },\n",
       "            });\n",
       "          </script>\n",
       "          "
      ],
      "text/plain": [
       "<IPython.core.display.HTML object>"
      ]
     },
     "metadata": {},
     "output_type": "display_data"
    }
   ],
   "source": [
    "#load results into a pandas dataframe\n",
    "eval_df = query1.execute(output_options=bq.QueryOutput.dataframe()).result()"
   ]
  },
  {
   "cell_type": "code",
   "execution_count": 15,
   "metadata": {
    "collapsed": false
   },
   "outputs": [
    {
     "data": {
      "text/html": [
       "\n",
       "          <script src=\"/static/components/requirejs/require.js\"></script>\n",
       "          <script>\n",
       "            requirejs.config({\n",
       "              paths: {\n",
       "                base: '/static/base',\n",
       "              },\n",
       "            });\n",
       "          </script>\n",
       "          "
      ],
      "text/plain": [
       "<IPython.core.display.HTML object>"
      ]
     },
     "metadata": {},
     "output_type": "display_data"
    },
    {
     "data": {
      "text/html": [
       "<div>\n",
       "<table border=\"1\" class=\"dataframe\">\n",
       "  <thead>\n",
       "    <tr style=\"text-align: right;\">\n",
       "      <th></th>\n",
       "      <th>eval_set</th>\n",
       "      <th>num</th>\n",
       "    </tr>\n",
       "  </thead>\n",
       "  <tbody>\n",
       "    <tr>\n",
       "      <th>0</th>\n",
       "      <td>prior</td>\n",
       "      <td>3214874</td>\n",
       "    </tr>\n",
       "    <tr>\n",
       "      <th>1</th>\n",
       "      <td>train</td>\n",
       "      <td>131209</td>\n",
       "    </tr>\n",
       "    <tr>\n",
       "      <th>2</th>\n",
       "      <td>test</td>\n",
       "      <td>75000</td>\n",
       "    </tr>\n",
       "  </tbody>\n",
       "</table>\n",
       "</div>"
      ],
      "text/plain": [
       "  eval_set      num\n",
       "0    prior  3214874\n",
       "1    train   131209\n",
       "2     test    75000"
      ]
     },
     "execution_count": 15,
     "metadata": {},
     "output_type": "execute_result"
    }
   ],
   "source": [
    "eval_df"
   ]
  },
  {
   "cell_type": "markdown",
   "metadata": {},
   "source": [
    "There are a total of > 3.2 million orders"
   ]
  },
  {
   "cell_type": "code",
   "execution_count": 19,
   "metadata": {
    "collapsed": false
   },
   "outputs": [
    {
     "data": {
      "text/html": [
       "\n",
       "          <script src=\"/static/components/requirejs/require.js\"></script>\n",
       "          <script>\n",
       "            requirejs.config({\n",
       "              paths: {\n",
       "                base: '/static/base',\n",
       "              },\n",
       "            });\n",
       "          </script>\n",
       "          "
      ],
      "text/plain": [
       "<IPython.core.display.HTML object>"
      ]
     },
     "metadata": {},
     "output_type": "display_data"
    },
    {
     "data": {
      "image/png": "[encoded data removed]",
      "text/plain": [
       "<matplotlib.figure.Figure at 0x7f5901c6ab10>"
      ]
     },
     "metadata": {},
     "output_type": "display_data"
    }
   ],
   "source": [
    "#plot the occurance\n",
    "plt.figure(figsize=(12,8))\n",
    "sns.barplot(eval_df.eval_set, eval_df.num, alpha=0.8, color=color[1])\n",
    "plt.ylabel('# Occurrences', fontsize=12)\n",
    "plt.xlabel('Eval type', fontsize=12)\n",
    "plt.title('Count of rows in each dataset', fontsize=15)\n",
    "plt.xticks(rotation='vertical')\n",
    "plt.show()"
   ]
  },
  {
   "cell_type": "code",
   "execution_count": 21,
   "metadata": {
    "collapsed": false
   },
   "outputs": [
    {
     "data": {
      "text/html": [
       "\n",
       "          <script src=\"/static/components/requirejs/require.js\"></script>\n",
       "          <script>\n",
       "            requirejs.config({\n",
       "              paths: {\n",
       "                base: '/static/base',\n",
       "              },\n",
       "            });\n",
       "          </script>\n",
       "          "
      ],
      "text/plain": [
       "<IPython.core.display.HTML object>"
      ]
     },
     "metadata": {},
     "output_type": "display_data"
    }
   ],
   "source": [
    "%%bq query -n query2\n",
    "SELECT\n",
    "  eval_set, user_id, COUNT(*)\n",
    "FROM\n",
    "  `newproject-186115.kaggle.ord`\n",
    "GROUP BY\n",
    "  eval_set, user_id"
   ]
  },
  {
   "cell_type": "code",
   "execution_count": 22,
   "metadata": {
    "collapsed": false
   },
   "outputs": [
    {
     "data": {
      "text/html": [
       "\n",
       "          <script src=\"/static/components/requirejs/require.js\"></script>\n",
       "          <script>\n",
       "            requirejs.config({\n",
       "              paths: {\n",
       "                base: '/static/base',\n",
       "              },\n",
       "            });\n",
       "          </script>\n",
       "          "
      ],
      "text/plain": [
       "<IPython.core.display.HTML object>"
      ]
     },
     "metadata": {},
     "output_type": "display_data"
    },
    {
     "data": {
      "text/html": [
       "\n",
       "    <div class=\"bqtv\" id=\"3_151301342454\"><table><tr><th>eval_set</th><th>user_id</th><th>f0_</th></tr><tr><td>test</td><td>107549</td><td>1</td></tr><tr><td>test</td><td>25145</td><td>1</td></tr><tr><td>test</td><td>90339</td><td>1</td></tr><tr><td>test</td><td>153025</td><td>1</td></tr><tr><td>test</td><td>143206</td><td>1</td></tr><tr><td>test</td><td>149893</td><td>1</td></tr><tr><td>test</td><td>49289</td><td>1</td></tr><tr><td>test</td><td>148654</td><td>1</td></tr><tr><td>test</td><td>93064</td><td>1</td></tr><tr><td>test</td><td>188</td><td>1</td></tr><tr><td>test</td><td>55276</td><td>1</td></tr><tr><td>test</td><td>154636</td><td>1</td></tr><tr><td>test</td><td>203984</td><td>1</td></tr><tr><td>test</td><td>24770</td><td>1</td></tr><tr><td>test</td><td>34305</td><td>1</td></tr><tr><td>test</td><td>73748</td><td>1</td></tr><tr><td>test</td><td>81414</td><td>1</td></tr><tr><td>test</td><td>91600</td><td>1</td></tr><tr><td>test</td><td>62037</td><td>1</td></tr><tr><td>test</td><td>30290</td><td>1</td></tr><tr><td>test</td><td>99629</td><td>1</td></tr><tr><td>test</td><td>157985</td><td>1</td></tr><tr><td>test</td><td>196449</td><td>1</td></tr><tr><td>test</td><td>165736</td><td>1</td></tr><tr><td>test</td><td>156423</td><td>1</td></tr></table></div>\n",
       "    <br />(rows: 412418, time: 7.8s,    51MB processed, job: job_awXl4wFE8gbmNfYoXlJOgA-DUa5a)<br />\n",
       "    <script>\n",
       "\n",
       "      require.config({\n",
       "        paths: {\n",
       "          d3: '//cdnjs.cloudflare.com/ajax/libs/d3/3.4.13/d3',\n",
       "          plotly: 'https://cdn.plot.ly/plotly-1.5.1.min.js?noext',\n",
       "          jquery: '//ajax.googleapis.com/ajax/libs/jquery/2.0.0/jquery.min'\n",
       "        },\n",
       "        map: {\n",
       "          '*': {\n",
       "            datalab: 'nbextensions/gcpdatalab'\n",
       "          }\n",
       "        },\n",
       "        shim: {\n",
       "          plotly: {\n",
       "            deps: ['d3', 'jquery'],\n",
       "            exports: 'plotly'\n",
       "          }\n",
       "        }\n",
       "      });\n",
       "\n",
       "      require(['datalab/charting', 'datalab/element!3_151301342454', 'base/js/events',\n",
       "          'datalab/style!/nbextensions/gcpdatalab/charting.css'],\n",
       "        function(charts, dom, events) {\n",
       "          charts.render('gcharts', dom, events, 'paged_table', [], {\"rows\": [{\"c\": [{\"v\": \"test\"}, {\"v\": 107549}, {\"v\": 1}]}, {\"c\": [{\"v\": \"test\"}, {\"v\": 25145}, {\"v\": 1}]}, {\"c\": [{\"v\": \"test\"}, {\"v\": 90339}, {\"v\": 1}]}, {\"c\": [{\"v\": \"test\"}, {\"v\": 153025}, {\"v\": 1}]}, {\"c\": [{\"v\": \"test\"}, {\"v\": 143206}, {\"v\": 1}]}, {\"c\": [{\"v\": \"test\"}, {\"v\": 149893}, {\"v\": 1}]}, {\"c\": [{\"v\": \"test\"}, {\"v\": 49289}, {\"v\": 1}]}, {\"c\": [{\"v\": \"test\"}, {\"v\": 148654}, {\"v\": 1}]}, {\"c\": [{\"v\": \"test\"}, {\"v\": 93064}, {\"v\": 1}]}, {\"c\": [{\"v\": \"test\"}, {\"v\": 188}, {\"v\": 1}]}, {\"c\": [{\"v\": \"test\"}, {\"v\": 55276}, {\"v\": 1}]}, {\"c\": [{\"v\": \"test\"}, {\"v\": 154636}, {\"v\": 1}]}, {\"c\": [{\"v\": \"test\"}, {\"v\": 203984}, {\"v\": 1}]}, {\"c\": [{\"v\": \"test\"}, {\"v\": 24770}, {\"v\": 1}]}, {\"c\": [{\"v\": \"test\"}, {\"v\": 34305}, {\"v\": 1}]}, {\"c\": [{\"v\": \"test\"}, {\"v\": 73748}, {\"v\": 1}]}, {\"c\": [{\"v\": \"test\"}, {\"v\": 81414}, {\"v\": 1}]}, {\"c\": [{\"v\": \"test\"}, {\"v\": 91600}, {\"v\": 1}]}, {\"c\": [{\"v\": \"test\"}, {\"v\": 62037}, {\"v\": 1}]}, {\"c\": [{\"v\": \"test\"}, {\"v\": 30290}, {\"v\": 1}]}, {\"c\": [{\"v\": \"test\"}, {\"v\": 99629}, {\"v\": 1}]}, {\"c\": [{\"v\": \"test\"}, {\"v\": 157985}, {\"v\": 1}]}, {\"c\": [{\"v\": \"test\"}, {\"v\": 196449}, {\"v\": 1}]}, {\"c\": [{\"v\": \"test\"}, {\"v\": 165736}, {\"v\": 1}]}, {\"c\": [{\"v\": \"test\"}, {\"v\": 156423}, {\"v\": 1}]}], \"cols\": [{\"type\": \"string\", \"id\": \"eval_set\", \"label\": \"eval_set\"}, {\"type\": \"number\", \"id\": \"user_id\", \"label\": \"user_id\"}, {\"type\": \"number\", \"id\": \"f0_\", \"label\": \"f0_\"}]},\n",
       "            {\n",
       "              pageSize: 25,\n",
       "              cssClassNames:  {\n",
       "                tableRow: 'gchart-table-row',\n",
       "                headerRow: 'gchart-table-headerrow',\n",
       "                oddTableRow: 'gchart-table-oddrow',\n",
       "                selectedTableRow: 'gchart-table-selectedrow',\n",
       "                hoverTableRow: 'gchart-table-hoverrow',\n",
       "                tableCell: 'gchart-table-cell',\n",
       "                headerCell: 'gchart-table-headercell',\n",
       "                rowNumberCell: 'gchart-table-rownumcell'\n",
       "              }\n",
       "            },\n",
       "            {source_index: 2, fields: 'eval_set,user_id,f0_'},\n",
       "            0,\n",
       "            412418);\n",
       "        }\n",
       "      );\n",
       "    </script>\n",
       "  "
      ],
      "text/plain": [
       "QueryResultsTable job_awXl4wFE8gbmNfYoXlJOgA-DUa5a"
      ]
     },
     "execution_count": 22,
     "metadata": {},
     "output_type": "execute_result"
    }
   ],
   "source": [
    "%%bq execute --query query2"
   ]
  },
  {
   "cell_type": "code",
   "execution_count": 23,
   "metadata": {
    "collapsed": false
   },
   "outputs": [
    {
     "data": {
      "text/html": [
       "\n",
       "          <script src=\"/static/components/requirejs/require.js\"></script>\n",
       "          <script>\n",
       "            requirejs.config({\n",
       "              paths: {\n",
       "                base: '/static/base',\n",
       "              },\n",
       "            });\n",
       "          </script>\n",
       "          "
      ],
      "text/plain": [
       "<IPython.core.display.HTML object>"
      ]
     },
     "metadata": {},
     "output_type": "display_data"
    }
   ],
   "source": [
    "#load results into a pandas dataframe\n",
    "eval_df2 = query2.execute(output_options=bq.QueryOutput.dataframe()).result()"
   ]
  },
  {
   "cell_type": "code",
   "execution_count": 24,
   "metadata": {
    "collapsed": false
   },
   "outputs": [
    {
     "data": {
      "text/html": [
       "\n",
       "          <script src=\"/static/components/requirejs/require.js\"></script>\n",
       "          <script>\n",
       "            requirejs.config({\n",
       "              paths: {\n",
       "                base: '/static/base',\n",
       "              },\n",
       "            });\n",
       "          </script>\n",
       "          "
      ],
      "text/plain": [
       "<IPython.core.display.HTML object>"
      ]
     },
     "metadata": {},
     "output_type": "display_data"
    },
    {
     "data": {
      "text/plain": [
       "prior    206209\n",
       "train    131209\n",
       "test      75000\n",
       "Name: eval_set, dtype: int64"
      ]
     },
     "execution_count": 24,
     "metadata": {},
     "output_type": "execute_result"
    }
   ],
   "source": [
    "eval_df2.eval_set.value_counts()"
   ]
  },
  {
   "cell_type": "markdown",
   "metadata": {},
   "source": [
    "In the dataset, there are around 206k unique orders, which are split into around 131k unique orders for training and 75k for testing"
   ]
  },
  {
   "cell_type": "code",
   "execution_count": null,
   "metadata": {
    "collapsed": true
   },
   "outputs": [],
   "source": [
    "#We merge Products, Departments, Orders, Aisles, Order_Propd_Prior into a single table using letf outer join\n",
    "#eg. \n",
    "# SELECT order_id, add_to_cart_order, reordered, product_name, aisle_id, department_id\n",
    "# FROM `newproject-xxxxx.kaggle.prior`\n",
    "# LEFT OUTER JOIN `newproject-xxxxx.kaggle.prod`\n",
    "#   ON `newproject-xxxxx.kaggle.prior`.product_id = `newproject-xxxxx.kaggle.prod`.product_id;\n",
    "\n",
    "\n",
    "#The next notebook 2_eda will access this new table to perform analysis"
   ]
  }
 ],
 "metadata": {
  "kernelspec": {
   "display_name": "Python 2",
   "language": "python",
   "name": "python2"
  },
  "language_info": {
   "codemirror_mode": {
    "name": "ipython",
    "version": 2
   },
   "file_extension": ".py",
   "mimetype": "text/x-python",
   "name": "python",
   "nbconvert_exporter": "python",
   "pygments_lexer": "ipython2",
   "version": "2.7.12"
  }
 },
 "nbformat": 4,
 "nbformat_minor": 2
}
